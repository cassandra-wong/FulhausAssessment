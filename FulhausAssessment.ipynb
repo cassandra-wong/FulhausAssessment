version https://git-lfs.github.com/spec/v1
oid sha256:15756fc9d441a0d70d5aa03e20a6fc8eb5694584b890af7b21c28166abfa2da0
size 330618
